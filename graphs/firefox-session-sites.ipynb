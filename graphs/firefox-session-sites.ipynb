{
 "cells": [
  {
   "cell_type": "markdown",
   "metadata": {
    "ein.tags": "worksheet-0",
    "slideshow": {
     "slide_type": "-"
    }
   },
   "source": [
    "extract links from firefox session store in .mozilla/firefox/profile.default\n",
    "\n",
    "needs dejsonlz4 from https://github.com/avih/dejsonlz4\n",
    "\n",
    "`dejsonlz4 session.jsonlz4 session.json`\n",
    "\n",
    "Then we load the uncompressed json into python."
   ]
  },
  {
   "cell_type": "code",
   "execution_count": 1,
   "metadata": {
    "autoscroll": false,
    "collapsed": false,
    "ein.tags": "worksheet-0",
    "slideshow": {
     "slide_type": "-"
    }
   },
   "outputs": [],
   "source": [
    "import json\n",
    "from recursivewalker import load_data\n",
    "dataroot = '../data/firefox-session-extractor'"
   ]
  },
  {
   "cell_type": "code",
   "execution_count": 2,
   "metadata": {
    "autoscroll": false,
    "collapsed": false,
    "ein.tags": "worksheet-0",
    "slideshow": {
     "slide_type": "-"
    }
   },
   "outputs": [
    {
     "name": "stdout",
     "output_type": "stream",
     "text": [
      "loaded data with initial entries [u'session', u'cookies', u'windows', u'global', u'_closedWindows', u'version', u'selectedWindow'], initial size 17704452 bytes\n"
     ]
    }
   ],
   "source": [
    "d, d_bytes = load_data('%s/firefox-session-20180316.json' % (dataroot), 'json')\n",
    "print('loaded data with initial entries %s, initial size %d bytes' % (d.keys(), d_bytes))"
   ]
  },
  {
   "cell_type": "code",
   "execution_count": 3,
   "metadata": {
    "autoscroll": false,
    "collapsed": false,
    "ein.tags": "worksheet-0",
    "slideshow": {
     "slide_type": "-"
    }
   },
   "outputs": [],
   "source": [
    "# task: collect all tab urls into a new lean dict\n",
    "# create return dict\n",
    "sites = {}\n",
    "# walk firefox session dict, search for relevant fields and collate\n",
    "# them into flat return dict\n",
    "for window_ in d['windows']:\n",
    "    for tab_ in window_['tabs']:\n",
    "        for entry_ in tab_['entries']:\n",
    "            sites[entry_['docIdentifier']] = {'title': entry_['title'], 'url': entry_['url']}\n",
    "            # print(list(entry_))"
   ]
  },
  {
   "cell_type": "code",
   "execution_count": 4,
   "metadata": {
    "autoscroll": false,
    "collapsed": false,
    "ein.tags": "worksheet-0",
    "slideshow": {
     "slide_type": "-"
    }
   },
   "outputs": [],
   "source": [
    "ret = json.dump(sites, open('%s/firefox-session-sites.json' % (dataroot), 'w'), indent=4, separators=(',', ': '))"
   ]
  }
 ],
 "metadata": {
  "kernelspec": {
   "display_name": "Python 3",
   "name": "python3"
  },
  "name": "firefox-session-sites.ipynb"
 },
 "nbformat": 4,
 "nbformat_minor": 2
}
